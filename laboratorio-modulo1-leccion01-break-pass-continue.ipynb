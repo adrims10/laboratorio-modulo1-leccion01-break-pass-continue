{
 "cells": [
  {
   "cell_type": "markdown",
   "metadata": {},
   "source": [
    "\n",
    "<div style=\"text-align: center;\">\n",
    "  <img src=\"https://github.com/Hack-io-Data/Imagenes/blob/main/01-LogosHackio/logo_celeste@4x.png?raw=true\" alt=\"esquema\" />\n",
    "</div>\n"
   ]
  },
  {
   "cell_type": "markdown",
   "metadata": {},
   "source": [
    "# Laboratorio de Python: break(), pass(), continue()"
   ]
  },
  {
   "cell_type": "markdown",
   "metadata": {},
   "source": [
    "## Ejercicio 1: Validación de datos numéricos. \n",
    "\n",
    "Escribe un bucle que lea una lista de números y detenga la ejecución si encuentra un valor negativo. Muestra un mensaje indicando el número negativo encontrado.\n"
   ]
  },
  {
   "cell_type": "code",
   "execution_count": 1,
   "metadata": {},
   "outputs": [
    {
     "name": "stdout",
     "output_type": "stream",
     "text": [
      "1\n",
      "2\n",
      "3\n",
      "4\n",
      "Numero negativo encontrado\n"
     ]
    }
   ],
   "source": [
    "lista_numero = [1,2,3,4,-1,5,6,7]\n",
    "\n",
    "for i in lista_numero:\n",
    "    if i>=0:\n",
    "        print(i)\n",
    "    else:\n",
    "        break\n",
    "        \n",
    "print('Numero negativo encontrado')\n"
   ]
  },
  {
   "cell_type": "markdown",
   "metadata": {},
   "source": [
    "\n",
    "## Ejercicio 2: Filtrado de datos\n",
    "\n",
    "Escribe un bucle que imprima los números de una lista, pero que omita los números pares.\n"
   ]
  },
  {
   "cell_type": "code",
   "execution_count": 2,
   "metadata": {},
   "outputs": [
    {
     "name": "stdout",
     "output_type": "stream",
     "text": [
      "1\n",
      "3\n",
      "-1\n",
      "5\n",
      "7\n"
     ]
    }
   ],
   "source": [
    "lista_numero1 = [1,2,3,4,-1,5,6,7,8,10,]\n",
    "\n",
    "for i in lista_numero1:\n",
    "    if i%2 !=0:\n",
    "        print(i)\n",
    "    else:\n",
    "        pass"
   ]
  },
  {
   "cell_type": "markdown",
   "metadata": {},
   "source": [
    "## Ejercicio 3: Búsqueda de un valor\n",
    "\n",
    "Escribe un programa que busque un valor específico en una lista y detenga la búsqueda cuando lo encuentre. Si se encuentra, muestra un mensaje.\n"
   ]
  },
  {
   "cell_type": "code",
   "execution_count": 18,
   "metadata": {},
   "outputs": [
    {
     "name": "stdout",
     "output_type": "stream",
     "text": [
      "El valor buscado se encuentra en la lista\n"
     ]
    }
   ],
   "source": [
    "lista_numero2 = [1,2,3,4,-1,5,6,7,8,10,]\n",
    "valorbuscado= int(input('Introduce el valor que quieras encontrar en la lista:'))\n",
    "for elemento in lista_numero2:\n",
    "    if valorbuscado == elemento:\n",
    "        print('El valor buscado se encuentra en la lista')\n",
    "        break\n"
   ]
  },
  {
   "cell_type": "markdown",
   "metadata": {},
   "source": [
    "## Ejercicio 4: Estructura de código incompleto\n",
    "\n",
    "Define una función que aún no tenga lógica implementada, pero que se pueda ejecutar sin errores utilizando `pass`."
   ]
  },
  {
   "cell_type": "code",
   "execution_count": 240,
   "metadata": {},
   "outputs": [],
   "source": [
    "def x():\n",
    "    \"\"\"defino una funcion vacia para introducir logica utilizando pass.\n",
    "    \"\"\"\n",
    "    pass\n",
    "    return\n"
   ]
  },
  {
   "cell_type": "markdown",
   "metadata": {},
   "source": [
    "## Ejercicio 5: Validación condicional\n",
    "\n",
    "Escribe un bucle que verifique una lista de nombres. Si encuentra un nombre vacío (cadena vacía), salta esa iteración y continúa con los demás nombres.\n"
   ]
  },
  {
   "cell_type": "code",
   "execution_count": 22,
   "metadata": {},
   "outputs": [
    {
     "name": "stdout",
     "output_type": "stream",
     "text": [
      "adri\n",
      "ana\n",
      "alberto\n",
      "alberto\n",
      "laura\n"
     ]
    }
   ],
   "source": [
    "lista_de_nombres=['adri','ana','alberto',' ','alberto','laura']\n",
    "\n",
    "for nombre in lista_de_nombres:\n",
    "    if nombre.isspace():\n",
    "        continue\n",
    "    print(nombre)"
   ]
  },
  {
   "cell_type": "markdown",
   "metadata": {},
   "source": [
    "## Ejercicio 6: Búsqueda de claves en un diccionario\n",
    "\n",
    "Escribe un programa que recorra un diccionario y detenga la búsqueda si encuentra una clave específica pasada por el usuario.\n"
   ]
  },
  {
   "cell_type": "code",
   "execution_count": 41,
   "metadata": {},
   "outputs": [],
   "source": [
    "Cesta_compra={'pera':5,'manzana':6,'tomate':3}\n",
    "producto= input('introduce el articulo').capitalize()\n",
    "\n",
    "for clave in Cesta_compra:\n",
    "    if clave == producto:\n",
    "        print('la clave esta en el diccionario')\n",
    "        break\n"
   ]
  },
  {
   "cell_type": "markdown",
   "metadata": {},
   "source": [
    "## Ejercicio 7: Bucle con múltiples excepciones\n",
    "\n",
    "Escribe un bucle que procese una lista de operaciones matemáticas, omitiendo las operaciones que intenten dividir por cero.\n"
   ]
  },
  {
   "cell_type": "code",
   "execution_count": 158,
   "metadata": {},
   "outputs": [
    {
     "name": "stdout",
     "output_type": "stream",
     "text": [
      "15\n",
      "5\n",
      "42\n",
      "Se esta dividiendo por 0\n",
      "5.0\n"
     ]
    }
   ],
   "source": [
    "operaciones = [\n",
    "    (10, '+', 5),\n",
    "    (8, '-', 3),\n",
    "    (6, '*', 7),\n",
    "    (9, '/', 0), \n",
    "    (15, '/', 3)]\n",
    "\n",
    "for numero1,operacion, numero2 in operaciones:\n",
    "    if operacion == '/' and numero2 == 0:\n",
    "        print('Se esta dividiendo por 0')\n",
    "        continue\n",
    "    if operacion == '+':\n",
    "        resultado = numero1 + numero2\n",
    "        print(resultado)\n",
    "    elif operacion == '-':\n",
    "        resultado = numero1 - numero2\n",
    "        print(resultado)\n",
    "    elif operacion == '*':\n",
    "        resultado = numero1 * numero2\n",
    "        print(resultado)\n",
    "    elif operacion == '/':\n",
    "        resultado = numero1 / numero2\n",
    "        print(resultado)\n"
   ]
  },
  {
   "cell_type": "markdown",
   "metadata": {},
   "source": [
    "## Ejercicio 8: Búsqueda en una lista anidada\n",
    "\n",
    "Escribe un programa que recorra una lista de listas y detenga la búsqueda cuando encuentre un valor mayor a 50.\n"
   ]
  },
  {
   "cell_type": "code",
   "execution_count": 119,
   "metadata": {},
   "outputs": [
    {
     "name": "stdout",
     "output_type": "stream",
     "text": [
      "Valor encontrado: 77\n"
     ]
    }
   ],
   "source": [
    "listadelistas=[[2,3,4],[45,6,30,77],[60,85,2]]\n",
    "encontrado= False\n",
    "for i in range(len(listadelistas)):\n",
    "    for j in range(len(listadelistas[i])):\n",
    "        if listadelistas[i][j]>50:\n",
    "            encontrado = True\n",
    "            print(f\"Valor encontrado: {listadelistas[i][j]}\")\n",
    "            break\n",
    "    if encontrado:\n",
    "        break\n",
    "                  \n",
    "                  "
   ]
  },
  {
   "cell_type": "markdown",
   "metadata": {},
   "source": [
    "## Ejercicio 9: Evaluación de series temporales\n",
    "\n",
    "Escribe un programa que recorra una lista de datos de series temporales y se detenga si encuentra un valor atípico (mayor a 100).\n"
   ]
  },
  {
   "cell_type": "code",
   "execution_count": 239,
   "metadata": {},
   "outputs": [
    {
     "name": "stdout",
     "output_type": "stream",
     "text": [
      "El primer valor atipico de la lista es 120\n"
     ]
    }
   ],
   "source": [
    "def serietemporal(numeros):\n",
    "    \"\"\"Defino una funcion numero para meter series temporales.\n",
    "\n",
    "    Args:\n",
    "        numeros (int): vamos a comprobar los int que sean atipicos.\n",
    "\n",
    "    Returns:\n",
    "            int/float que sera el primer valor atipico en la lista.\n",
    "    \"\"\"\n",
    "    for i, valor  in enumerate(numeros):    #Facilita el acceso tanto al indice como al valor del elemento en la lista\n",
    "        if valor >100:\n",
    "            break\n",
    "    return valor\n",
    "\n",
    "numerosdados=[10,20,30,40,120,60,70,80,90,100,110,120,130]\n",
    "\n",
    "print(f'El primer valor atipico de la lista es {serietemporal(numerosdados)}')"
   ]
  },
  {
   "cell_type": "markdown",
   "metadata": {},
   "source": [
    "## Ejercicio 10: Iteración con valores faltantes\n",
    "\n",
    "Crea un bucle que recorra una lista de datos de ventas y salte los valores faltantes representados por `None`."
   ]
  },
  {
   "cell_type": "code",
   "execution_count": 194,
   "metadata": {},
   "outputs": [
    {
     "name": "stdout",
     "output_type": "stream",
     "text": [
      "100000\n",
      "2000\n",
      "300000\n",
      "40000\n",
      "500\n"
     ]
    }
   ],
   "source": [
    "Listadatosventas= [100000,2000,300000,'none',40000,'none',500,'none','none']\n",
    "\n",
    "for elemento in Listadatosventas:\n",
    "    if elemento != 'none':\n",
    "        pass\n",
    "        print(elemento)"
   ]
  },
  {
   "cell_type": "markdown",
   "metadata": {},
   "source": [
    "## Ejercicio 11: Control de flujo en bucles anidados\n",
    "\n",
    "Escribe un bucle que recorra la matriz dada y se detenga si se encuentra un número negativo, mostrando su posición.\n",
    "\n"
   ]
  },
  {
   "cell_type": "code",
   "execution_count": 231,
   "metadata": {},
   "outputs": [
    {
     "name": "stdout",
     "output_type": "stream",
     "text": [
      "Valor encontrado: -3, posicion: sublista indice 1 y dentro de esta indice 1\n"
     ]
    }
   ],
   "source": [
    "matriz=[[1,2,4],\n",
    "        [4,-3,-3],\n",
    "        [-1,5,7]]\n",
    "\n",
    "encontrado=False\n",
    "\n",
    "for i in range(len(matriz)):                    #itera rango de la todal la matriz.\n",
    "    for j in range(len(matriz[i])):             #itera rango de la submatriz\n",
    "        if matriz[i][j]<0:                      \n",
    "            encontrado = True\n",
    "            print(f\"Valor encontrado: {matriz[i][j]}, posicion: sublista indice {i} y dentro de esta indice {j}\")\n",
    "            break\n",
    "    if encontrado:\n",
    "        break\n",
    "\n"
   ]
  },
  {
   "cell_type": "markdown",
   "metadata": {},
   "source": [
    "## Ejercicio 12: Placeholder para funciones incompletas\n",
    "\n",
    "Escribe una función que tenga un bloque de control que aún no esté implementado, utilizando `pass` para que no genere errores."
   ]
  },
  {
   "cell_type": "code",
   "execution_count": 241,
   "metadata": {},
   "outputs": [],
   "source": [
    "def funcion(x):\n",
    "  \"\"\"defino una funcion sin logica pero con bloque de control basico\n",
    "\n",
    "  Args:\n",
    "      x (int,float): tomando como ejemplo i<0 definiremos mas condiciones.\n",
    "\n",
    "  Returns:\n",
    "      int,float: devolvera el resultado\n",
    "  \"\"\"\n",
    "  for i in x:\n",
    "    if i>0:\n",
    "      pass\n",
    "  return resultado"
   ]
  }
 ],
 "metadata": {
  "kernelspec": {
   "display_name": "contenido",
   "language": "python",
   "name": "python3"
  },
  "language_info": {
   "codemirror_mode": {
    "name": "ipython",
    "version": 3
   },
   "file_extension": ".py",
   "mimetype": "text/x-python",
   "name": "python",
   "nbconvert_exporter": "python",
   "pygments_lexer": "ipython3",
   "version": "3.12.6"
  }
 },
 "nbformat": 4,
 "nbformat_minor": 2
}
